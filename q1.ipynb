{
 "cells": [
  {
   "cell_type": "code",
   "execution_count": 1,
   "metadata": {},
   "outputs": [
    {
     "name": "stdout",
     "output_type": "stream",
     "text": [
      "esfdgfg stored into the string_list\n",
      "['esfdgfg']\n",
      "sd stored into the string_list\n",
      "['esfdgfg', 'sd']\n",
      "Please Enter a value\n"
     ]
    }
   ],
   "source": [
    "import sys\n",
    "\n",
    "def acceptInput():\n",
    "    ''' This function takes input from user and then seggregates the data into 3 lists according to the data types \n",
    "        the 3 lists are integer_list,string_list,listObj\n",
    "\n",
    "        Returns :\n",
    "        None \n",
    "    '''\n",
    "    try:\n",
    "        integer_list=[]\n",
    "        string_list=[]\n",
    "        listObj=[]\n",
    "        count=int(input(\"How many values are you going to enter \"))\n",
    "        for i in range(count):\n",
    "            data=input(\"Enter your input\")\n",
    "            if(len(data)>0):\n",
    "                data_list=data.split(',')\n",
    "                if len(data_list)>1:\n",
    "                    listObj.extend(data_list)\n",
    "                    print(f\"{data} stored into the list obj\")\n",
    "                    print(listObj)\n",
    "                elif data.isdigit():\n",
    "                    integer_list.append(data)\n",
    "                    print(f\"{data} stored into the integer_list\")\n",
    "                    print(integer_list)\n",
    "                elif data.isalpha():\n",
    "                    string_list.append(data)\n",
    "                    print(f\"{data} stored into the string_list\") \n",
    "                    print(string_list)  \n",
    "            else:\n",
    "                raise Exception(\"Please Enter a value\")\n",
    "                continue\n",
    "                    \n",
    "\n",
    "\n",
    "    except ValueError:\n",
    "        print(\"Please enter only numbers \")\n",
    "    except:\n",
    "        print(sys.exc_info()[1])\n",
    "\n",
    "\n",
    "acceptInput()"
   ]
  },
  {
   "cell_type": "code",
   "execution_count": null,
   "metadata": {},
   "outputs": [],
   "source": []
  }
 ],
 "metadata": {
  "kernelspec": {
   "display_name": "Python 3",
   "language": "python",
   "name": "python3"
  },
  "language_info": {
   "codemirror_mode": {
    "name": "ipython",
    "version": 3
   },
   "file_extension": ".py",
   "mimetype": "text/x-python",
   "name": "python",
   "nbconvert_exporter": "python",
   "pygments_lexer": "ipython3",
   "version": "3.12.1"
  }
 },
 "nbformat": 4,
 "nbformat_minor": 2
}
