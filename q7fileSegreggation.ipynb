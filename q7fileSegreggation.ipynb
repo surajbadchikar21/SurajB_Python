{
 "cells": [
  {
   "cell_type": "code",
   "execution_count": null,
   "metadata": {},
   "outputs": [],
   "source": [
    "import os\n",
    "import shutil\n",
    "import logging\n",
    "\n",
    "logger = logging.getLogger(\"fileSegregator\")\n",
    "logger.setLevel(logging.INFO)\n",
    "formatter = logging.Formatter(\"%(asctime)s:%(levelname)s:%(message)s\")\n",
    "fileHandler = logging.FileHandler(\"fileSegregationLog.log\")\n",
    "fileHandler.setFormatter(formatter)\n",
    "logger.addHandler(fileHandler)\n",
    "\n",
    "def segregate_files(source, target):\n",
    "    \"\"\"\n",
    "    Segregates files from the source  into three folders in the target \n",
    "    based on file size.\n",
    "\n",
    "    Args:\n",
    "        source_dir(str): Path to the source directory containing files to segregate according to size .\n",
    "        target_dir(str): Path to the target directory where the segregated folders will be created.\n",
    "    Returns:\n",
    "        None\n",
    "    \"\"\"\n",
    "    try:\n",
    "        largefiles = os.path.join(target, \"Large\") \n",
    "        mediumfiles = os.path.join(target, \"Medium\")\n",
    "        smallfiles = os.path.join(target, \"Small\")\n",
    "\n",
    "        os.makedirs(largefiles, exist_ok=True) #I am using makedir insted of mkdir due to the exist_ok parameter of makedirs\n",
    "        os.makedirs(mediumfiles, exist_ok=True)\n",
    "        os.makedirs(smallfiles, exist_ok=True)\n",
    "        \n",
    "        #here I get a list of all the files inside the folder \n",
    "        for filename in os.listdir(source):\n",
    "            filepath = os.path.join(source, filename)\n",
    "        #here I have put a condition as if files already exists I was directly throwing an exception earlier \n",
    "            if os.path.isdir(filepath):\n",
    "                continue\n",
    "            \n",
    "            #used to get the size of the file \n",
    "            file_size_kb=os.stat(filepath).st_size/1024\n",
    "\n",
    "            if file_size_kb>=10:\n",
    "                shutil.move(filepath,largefiles)\n",
    "                logger.info(f'File {filepath} sent to LargeFiles folder')\n",
    "            elif 5 <= file_size_kb< 10:\n",
    "                shutil.move(filepath,mediumfiles)\n",
    "                logger.info(f'File {filepath} sent to MediumSizedFiles folder')\n",
    "            else:\n",
    "                shutil.move(filepath,smallfiles)\n",
    "                logger.info(f'File {filepath} sent to SmallFiles folder')\n",
    "\n",
    "    except PermissionError as e:\n",
    "        logger.error(f\"Permission error: {e}\")\n",
    "    except Exception as e:\n",
    "        logger.error(f\"An error occurred: {e}\")\n",
    "\n",
    "source = \"E:\\BizmetricTraining\\smallFiles\"\n",
    "target = \"E:\\BizmetricTraining\\smallFiles\"\n",
    "\n",
    "segregate_files(source, target)\n"
   ]
  },
  {
   "cell_type": "code",
   "execution_count": 1,
   "metadata": {},
   "outputs": [],
   "source": [
    "import abc"
   ]
  },
  {
   "cell_type": "code",
   "execution_count": 2,
   "metadata": {},
   "outputs": [],
   "source": [
    "class aac(metaclass=abc.ABCMeta):\n",
    "    @abc.abstractmethod\n",
    "    def sdfg(self):\n",
    "        pass"
   ]
  },
  {
   "cell_type": "code",
   "execution_count": 6,
   "metadata": {},
   "outputs": [
    {
     "name": "stdout",
     "output_type": "stream",
     "text": [
      "not working\n"
     ]
    }
   ],
   "source": [
    "import re \n",
    "class Validation():\n",
    "    def __init__(self,name):\n",
    "        self.name=name\n",
    "    \n",
    "    \n",
    "    def Validate(self):\n",
    "        pattern='^[A-Za-z][A-z]*[A-z]$'\n",
    "        if re.match(pattern,self.name):\n",
    "            print('yup works')\n",
    "        else:\n",
    "            print('not working')\n",
    "\n",
    "\n",
    "v=Validation('Suraj')\n",
    "v.Validate()"
   ]
  }
 ],
 "metadata": {
  "kernelspec": {
   "display_name": "Python 3",
   "language": "python",
   "name": "python3"
  },
  "language_info": {
   "codemirror_mode": {
    "name": "ipython",
    "version": 3
   },
   "file_extension": ".py",
   "mimetype": "text/x-python",
   "name": "python",
   "nbconvert_exporter": "python",
   "pygments_lexer": "ipython3",
   "version": "3.12.1"
  }
 },
 "nbformat": 4,
 "nbformat_minor": 2
}
