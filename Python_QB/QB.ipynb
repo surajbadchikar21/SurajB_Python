{
 "cells": [
  {
   "cell_type": "markdown",
   "metadata": {},
   "source": [
    ">1.\tCreate the empty list and ask user to enters only int, float elements in the list."
   ]
  },
  {
   "cell_type": "code",
   "execution_count": null,
   "metadata": {},
   "outputs": [
    {
     "name": "stdout",
     "output_type": "stream",
     "text": [
      " Unexpected error Enter only Floats and Integers\n",
      " Unexpected error Enter only Floats and Integers\n",
      " Unexpected error Enter only Floats and Integers\n"
     ]
    }
   ],
   "source": [
    "import sys\n",
    "import pyodbc\n",
    "\n",
    "def accept(noOfElements):\n",
    "    ''' The function accepts how many elements the user wants to enter then only allows the user to enter value of integer and \n",
    "    float types while appending it in a list \n",
    "    \n",
    "    returns :\n",
    "    A list of only float and integer elements \n",
    "    '''\n",
    "    elements=[]\n",
    "    i=0\n",
    "    \n",
    "    while i<noOfElements:\n",
    "        try:\n",
    "            no=input('Enter a float or integer')\n",
    "            if (no.isdigit()):\n",
    "                elements.append(int(no))\n",
    "                print(f\"Element accepted - {no}\")\n",
    "                i=i+1\n",
    "            else:\n",
    "                try:\n",
    "                    float_no = float(no)  \n",
    "                    elements.append(float_no) \n",
    "                    print(f\"Element accepted - {no}\") \n",
    "                    i=i+1\n",
    "                except ValueError:\n",
    "                    raise ValueError('Enter only Floats and Integers')\n",
    "        except AttributeError:\n",
    "            print(sys.exc_info()[1])\n",
    "        except:\n",
    "            print(f' Unexpected error {sys.exc_info()[1]}')\n",
    "    return elements\n",
    "\n",
    "elements=accept(2)\n",
    "elements"
   ]
  },
  {
   "cell_type": "markdown",
   "metadata": {},
   "source": [
    ">2.\tCreate a empty dictionary d1 ask user to enter the values using loop"
   ]
  },
  {
   "cell_type": "code",
   "execution_count": null,
   "metadata": {},
   "outputs": [],
   "source": [
    "def accept_dict(noOfElements):\n",
    "        ''' The function accepts how many elements the user wants to enter then  adds values to thee dictionary\n",
    "        returns :\n",
    "        A dictionary of elements \n",
    "        '''\n",
    "        i=0\n",
    "        d={}\n",
    "        while i <noOfElements:\n",
    "                try:\n",
    "                        key=input('Enter key')\n",
    "                        if key in d.keys():\n",
    "                                print('Key already exists')\n",
    "                        else:\n",
    "                                value=input(f'Enter value to be entered at key : {i}')\n",
    "                                d[key]=value\n",
    "                                i+=1\n",
    "                except:\n",
    "                        print(f' Unexpected error {sys.exc_info()[1]}')\n",
    "        return d\n",
    "\n",
    "accept_dict(3)"
   ]
  },
  {
   "cell_type": "markdown",
   "metadata": {},
   "source": [
    ">3.\tCreate a empty dictionary d1 ask user to enter the values using comprehensive list"
   ]
  },
  {
   "cell_type": "code",
   "execution_count": null,
   "metadata": {},
   "outputs": [],
   "source": [
    "def com_accept(limit):\n",
    "    ''' The function accepts a limit and using comprehenshion asks user to enter  values and add the values to the dictionary '''\n",
    "    d1={}\n",
    "    l={f'key{i + 1}': input(f'Enter value for key{i + 1}: ') for i in range(limit)}\n",
    "    print(l)\n",
    "\n",
    "com_accept(10)"
   ]
  },
  {
   "cell_type": "markdown",
   "metadata": {},
   "source": [
    ">4.\tCreate a function which will accept two integer or float parameter from user and return 4 arithmetic operations in the form of tuple. If user pass argument other than integer and float then error should be created."
   ]
  },
  {
   "cell_type": "code",
   "execution_count": null,
   "metadata": {},
   "outputs": [
    {
     "name": "stdout",
     "output_type": "stream",
     "text": [
      "Enter only int and float\n"
     ]
    }
   ],
   "source": [
    "class arithemric():\n",
    "    def ar_op(self,a,b):\n",
    "        '''The function accepts two values as arguments in float and int  data type\n",
    "    \n",
    "        returns: \n",
    "        a Tuple with 4 aritmetic operations performed on a,b , +,*,-,/ \n",
    "        '''\n",
    "        if type(a) in [int,float] and type(b) in [int,float] :\n",
    "            try:\n",
    "             return (a+b,a*b,a-b,a/b)\n",
    "            except ZeroDivisionError:\n",
    "                print(\"We are dividing by 0 so 0 is not accepted\")\n",
    "        else:\n",
    "            raise Exception('Enter only int and float')\n",
    "        \n",
    "    def inp(self):\n",
    "        try:\n",
    "            a= input(\"Enter num1\")\n",
    "            b= input(\"Enter num2\")\n",
    "            if a.isdigit():\n",
    "                a=int(a)\n",
    "            elif '.' in a:\n",
    "                a=float(a)\n",
    "            if b.isdigit():\n",
    "                b=int(b)\n",
    "            elif '.' in b:\n",
    "                b=float(b)\n",
    "            return self.ar_op(a,b)\n",
    "        except ValueError:\n",
    "            print(\"Value Error\")\n",
    "        except Exception as e :\n",
    "            print(e)\n",
    "\n",
    "a=arithemric()\n",
    "b=a.inp()\n",
    "b"
   ]
  },
  {
   "cell_type": "markdown",
   "metadata": {},
   "source": [
    ">5.\t Based on the above function (Question number 4) dived the outcome of multiplication by 2. "
   ]
  },
  {
   "cell_type": "code",
   "execution_count": null,
   "metadata": {},
   "outputs": [
    {
     "data": {
      "text/plain": [
       "(4, 2.0, 0, 1.0)"
      ]
     },
     "execution_count": 12,
     "metadata": {},
     "output_type": "execute_result"
    }
   ],
   "source": [
    "class arithmetic1(arithemric):\n",
    "    ''' The class inherits the class from Question 4'''\n",
    "    def inp(self):\n",
    "        ''' This methods overrides the super class method and alters the output as requested and returns a tuple'''\n",
    "        a= super().inp()\n",
    "        _sum,mul,sub,div=a\n",
    "        return(_sum,mul/2,sub,div)\n",
    "    \n",
    "a=arithmetic1()\n",
    "b=a.inp()\n",
    "b\n"
   ]
  },
  {
   "cell_type": "markdown",
   "metadata": {},
   "source": [
    ">6.\tcreate a function to add only string element in a list. if other than string display the appropriate message."
   ]
  },
  {
   "cell_type": "code",
   "execution_count": null,
   "metadata": {},
   "outputs": [],
   "source": [
    "def stringlist():\n",
    "    ''' the function add's only string element in a list. if other than string display's the appropriate message's.'''\n",
    "    l=[]\n",
    "    while True:\n",
    "        print(\"1 for adding in list\")\n",
    "        print(\"2 to exit \")\n",
    "        try:\n",
    "            choice=int(input(\"Enter your choice \"))\n",
    "            match(choice):\n",
    "                case 1:\n",
    "                    s=input(\"Enter only string values\")\n",
    "                    if s.isalpha():\n",
    "                        l.append(s)\n",
    "                    else:\n",
    "                        raise Exception(\"Only enter String values\")\n",
    "                case 2 :\n",
    "                    break\n",
    "        except ValueError :\n",
    "            print(\"Choice can be only integer\")\n",
    "    return l\n",
    "\n",
    "stringlist()\n",
    "\n"
   ]
  },
  {
   "cell_type": "markdown",
   "metadata": {},
   "source": [
    ">7.\tCreate a function to read the file and return the dictionary of total lines, total words"
   ]
  },
  {
   "cell_type": "code",
   "execution_count": 21,
   "metadata": {},
   "outputs": [
    {
     "data": {
      "text/plain": [
       "{'total_lines': 7, 'word_count': 36}"
      ]
     },
     "execution_count": 21,
     "metadata": {},
     "output_type": "execute_result"
    }
   ],
   "source": [
    "def Fileread(filePath):\n",
    "    try:\n",
    "        with open(filePath,'r') as File :\n",
    "            lines=File.readlines()\n",
    "            totalLines=len(lines)\n",
    "            count=0\n",
    "            for i in lines:\n",
    "                s=i.split()\n",
    "                count+=len(s)\n",
    "        return {'total_lines':totalLines,'word_count':count}\n",
    "    except FileNotFoundError:\n",
    "        print('File no found')\n",
    "    except Exception as e:\n",
    "        print(e)\n",
    "d=Fileread(r'E:\\BizmetricTraining\\Python_QB\\abc.txt')\n",
    "d"
   ]
  },
  {
   "cell_type": "markdown",
   "metadata": {},
   "source": [
    ">8.\tCreate a function which will accept the dictionary and display key values in separate line."
   ]
  },
  {
   "cell_type": "code",
   "execution_count": null,
   "metadata": {},
   "outputs": [
    {
     "name": "stdout",
     "output_type": "stream",
     "text": [
      "key1 : a\n",
      "key2 : a\n",
      "key3 : a\n"
     ]
    }
   ],
   "source": [
    "def display(**kwargs):\n",
    "    '''Accepts the dictionary as argument and displays key , value pairs line by line  '''\n",
    "    for key,value in kwargs.items():\n",
    "        print(f'{key} : {value}')\n",
    "\n",
    "def _accept(limit):\n",
    "    ''' The function accepts a limit and using comprehenshion asks user to enter values and add the values to the dictionary '''\n",
    "    l={f'key{i + 1}': input(f'Enter value for key{i + 1}: ') for i in range(limit)}\n",
    "    return l\n",
    "\n",
    "display(**_accept(3))\n"
   ]
  },
  {
   "cell_type": "markdown",
   "metadata": {},
   "source": [
    ">9.\tCreate a lambda function which will accept the dictionary and display key values in separate line."
   ]
  },
  {
   "cell_type": "code",
   "execution_count": null,
   "metadata": {},
   "outputs": [
    {
     "name": "stdout",
     "output_type": "stream",
     "text": [
      "key : 1 value : khghj\n"
     ]
    },
    {
     "data": {
      "text/plain": [
       "[None]"
      ]
     },
     "execution_count": 26,
     "metadata": {},
     "output_type": "execute_result"
    }
   ],
   "source": [
    "try:\n",
    "    x=lambda d:[print(f'key : {key} value : {value}') for key,value in d.items()]\n",
    "    d={'1':'khghj','2':'khghj','3':'khghj'}\n",
    "    x(d)\n",
    "except Exception as e:\n",
    "    print(e.message)"
   ]
  },
  {
   "cell_type": "markdown",
   "metadata": {},
   "source": [
    ">10.\tCreate a function to validate the password: password should contains at least one small letter, one capital letter, one number, and one special character except comma, quotes"
   ]
  },
  {
   "cell_type": "code",
   "execution_count": null,
   "metadata": {},
   "outputs": [
    {
     "name": "stdout",
     "output_type": "stream",
     "text": [
      "Password is valid!\n"
     ]
    }
   ],
   "source": [
    "import re\n",
    "\n",
    "\n",
    "def validate(word):\n",
    "    '''This function validates the password by checking if it contains at least one small letter, one capital letter,\n",
    "      one number, and one special character except comma, quotes'''\n",
    "    if (re.search('[A-Z]', word) and\n",
    "        re.search('\\d', word) and\n",
    "        re.search('[a-z]', word) and\n",
    "        re.search(r'[^A-Za-z0-9,\\'\\\"]', word)):\n",
    "        print(\"Password is valid!\")\n",
    "    else:\n",
    "        print(\"Password is invalid!\")\n",
    "\n",
    "validate('A1hwxngsb@')"
   ]
  },
  {
   "cell_type": "markdown",
   "metadata": {},
   "source": [
    ">11.\tGenerate a decorator having logic to accept natural numbers . which can be used in a function of factorial"
   ]
  },
  {
   "cell_type": "code",
   "execution_count": null,
   "metadata": {},
   "outputs": [
    {
     "ename": "TypeError",
     "evalue": "Only enter natural numbers",
     "output_type": "error",
     "traceback": [
      "\u001b[1;31m---------------------------------------------------------------------------\u001b[0m",
      "\u001b[1;31mTypeError\u001b[0m                                 Traceback (most recent call last)",
      "Cell \u001b[1;32mIn[16], line 21\u001b[0m\n\u001b[0;32m     18\u001b[0m         result\u001b[38;5;241m*\u001b[39m\u001b[38;5;241m=\u001b[39mi\n\u001b[0;32m     19\u001b[0m     \u001b[38;5;28;01mreturn\u001b[39;00m result\n\u001b[1;32m---> 21\u001b[0m \u001b[43mfactorial\u001b[49m\u001b[43m(\u001b[49m\u001b[38;5;124;43m'\u001b[39;49m\u001b[38;5;124;43makjds\u001b[39;49m\u001b[38;5;124;43m'\u001b[39;49m\u001b[43m)\u001b[49m\n",
      "Cell \u001b[1;32mIn[16], line 9\u001b[0m, in \u001b[0;36mmy_decorator.<locals>.wrapper\u001b[1;34m(no)\u001b[0m\n\u001b[0;32m      7\u001b[0m         \u001b[38;5;28;01mraise\u001b[39;00m \u001b[38;5;167;01mValueError\u001b[39;00m(\u001b[38;5;124m'\u001b[39m\u001b[38;5;124mOnly positive numbers allowed \u001b[39m\u001b[38;5;124m'\u001b[39m)\n\u001b[0;32m      8\u001b[0m \u001b[38;5;28;01melse\u001b[39;00m:\n\u001b[1;32m----> 9\u001b[0m     \u001b[38;5;28;01mraise\u001b[39;00m \u001b[38;5;167;01mTypeError\u001b[39;00m(\u001b[38;5;124m'\u001b[39m\u001b[38;5;124mOnly enter natural numbers\u001b[39m\u001b[38;5;124m'\u001b[39m)\n",
      "\u001b[1;31mTypeError\u001b[0m: Only enter natural numbers"
     ]
    }
   ],
   "source": [
    "def my_decorator(func):\n",
    "    '''This decorator can be used in a function of factorial function \n",
    "        It raises a ValueError if the input is not a natural number or less than 0.\\\n",
    "        Returns the result of the function if the input is valid.\n",
    "        Raises a TypeError if the input is not an integer.'''\n",
    "    def wrapper(no):\n",
    "        if type(no)==int and no > 0:\n",
    "                return func(no)\n",
    "        else:\n",
    "            raise TypeError('Only enter natural numbers')\n",
    "    return wrapper  \n",
    "\n",
    "        \n",
    "@my_decorator\n",
    "def factorial(num):\n",
    "        ''' Returns the factorial of a number'''\n",
    "        result=1\n",
    "        for i in range(1,num+1):\n",
    "            result*=i\n",
    "        return result\n",
    "    \n",
    "\n",
    "factorial(5)"
   ]
  },
  {
   "cell_type": "markdown",
   "metadata": {},
   "source": [
    ">12.\tGenerate the decorator for a Garden visit to check if current time is between 7am to 7pm.  If true the only call the function else generate the error. \n",
    "a.\tFunction payment_check() is active only within given time span and it will check for all user transaction in that given month.\n",
    "b.\tFunction entry() will be perform entry transaction of the user\n",
    "c.\tFunction exit() will update the outtime of the user if entry exists  \n"
   ]
  },
  {
   "cell_type": "code",
   "execution_count": null,
   "metadata": {},
   "outputs": [],
   "source": [
    "'''decorator function for a Garden visit to check \n",
    "if current time is between'''\n",
    "def within_operating_hours(func):\n",
    "    def wrapper(*args, **kwargs):\n",
    "        current_time = datetime.now().time()\n",
    "        start_time = datetime.strptime(\"07:00:00\", \"%H:%M:%S\").time()\n",
    "        end_time = datetime.strptime(\"19:00:00\", \"%H:%M:%S\").time()\n",
    "        \n",
    "        if start_time <= current_time <= end_time:\n",
    "            return func(*args, **kwargs)\n",
    "        else:\n",
    "            raise ValueError(\"ERROR: Function can only be called between 7 AM and 7 PM.\")\n",
    "    \n",
    "    return wrapper\n",
    "\n",
    "'''a class for a Garden visit'''\n",
    "class GardenVisit:\n",
    "    '''initializing user id and established connection'''\n",
    "    def __init__(self):\n",
    "        self.user_id = int(input(\"Enter User ID: \"))\n",
    "        self.conn_str = (\n",
    "            \"Driver={SQL Server};\"\n",
    "            \"Server=DESKTOP-965RU10;\"  \n",
    "            \"Database=GardenDB;\" \n",
    "            \"Trusted_Connection=yes;\"    \n",
    "        )\n",
    "    \n",
    "    '''checks fro payment is active only within given time span \n",
    "    and all user transaction in that given month.'''\n",
    "    @within_operating_hours\n",
    "    def payment_check(self):\n",
    "        try:\n",
    "            with pyodbc.connect(self.conn_str) as conn:\n",
    "                cursor = conn.cursor()\n",
    "                query = \"\"\"\n",
    "                SELECT * FROM Transactions\n",
    "                WHERE UserID = ? AND MONTH(TransactionDate) = MONTH(GETDATE())\n",
    "                \"\"\"\n",
    "                cursor.execute(query, self.user_id)\n",
    "                transactions = cursor.fetchall()\n",
    "                \n",
    "                if transactions:\n",
    "                    for transaction in transactions:\n",
    "                        print(f\"Transaction ID: {transaction.TransactionID}, \"\n",
    "                              f\"Date: {transaction.TransactionDate}, \"\n",
    "                              f\"Amount: {transaction.Amount}, \"\n",
    "                              f\"Description: {transaction.Description}\")\n",
    "                else:\n",
    "                    print(\"No transactions found for the current month.\")\n",
    "        except pyodbc.Error as e:\n",
    "            print(f\"Database error: {e}\")\n",
    "    \n",
    "    '''function for entry  transactions'''\n",
    "    @within_operating_hours\n",
    "    def entry(self):\n",
    "        self.entry_time = datetime.now()\n",
    "        print(f\"User {self.user_id} entry recorded at {self.entry_time}.\")\n",
    "    \n",
    "    '''updates out time of the user if entry exists'''\n",
    "    @within_operating_hours\n",
    "    def exit(self):\n",
    "        if self.entry_time:\n",
    "            out_time = datetime.now()\n",
    "            print(f\"User {self.user_id} exited at {out_time}.\")\n",
    "            self.entry_time = None\n",
    "        else:\n",
    "            raise ValueError(\"ERROR: Entry transaction does not exist.\")\n",
    "\n",
    "visit = GardenVisit()\n",
    "\n",
    "try:\n",
    "    visit.payment_check()\n",
    "    visit.entry()\n",
    "    visit.exit()\n",
    "except ValueError as e:\n",
    "    print(e)\n",
    "except pyodbc.Error as e:\n",
    "    print(f\"Database error: {e}\")"
   ]
  },
  {
   "cell_type": "markdown",
   "metadata": {},
   "source": [
    "output\n",
    "###### Transaction ID: 2, Date: 2025-02-15, Amount: 100.00, Description: Monthly Payment\n",
    "###### User 123 entry recorded at 2025-02-13 14:42:28.988078.\n",
    "###### User 123 exited at 2025-02-13 14:42:28.988078."
   ]
  },
  {
   "cell_type": "markdown",
   "metadata": {},
   "source": [
    ">13.\tCreate lambda function for sorting of the string"
   ]
  },
  {
   "cell_type": "code",
   "execution_count": 21,
   "metadata": {},
   "outputs": [
    {
     "name": "stdout",
     "output_type": "stream",
     "text": [
      "a b c d e\n"
     ]
    }
   ],
   "source": [
    "try:\n",
    "    x=lambda x: ' '.join(sorted(x))\n",
    "    print(x(\"debca\"))\n",
    "except ValueError:\n",
    "    print('Error: Input should be a string')\n",
    "except Exception as e:\n",
    "    print(e.message)"
   ]
  },
  {
   "cell_type": "markdown",
   "metadata": {},
   "source": [
    "14.\tCreate a generator which will generate runtime unique value as  ABC0001, ABC0002, ABC0003… "
   ]
  },
  {
   "cell_type": "code",
   "execution_count": null,
   "metadata": {},
   "outputs": [
    {
     "data": {
      "text/plain": [
       "'ABC001'"
      ]
     },
     "execution_count": 23,
     "metadata": {},
     "output_type": "execute_result"
    }
   ],
   "source": [
    "def gen():\n",
    "    ''' This generator generates unique runtime value as ABC0001, ABC0002, ABC0003... '''\n",
    "    count = 1\n",
    "    while True:\n",
    "        yield f'ABC{count:03}'\n",
    "        count+=1\n",
    "\n",
    "x=gen()\n",
    "next(x)"
   ]
  },
  {
   "cell_type": "markdown",
   "metadata": {},
   "source": [
    "> 15.\tCreate a decorator to check if all input values are alpha numeric and based on it check PAN detail  AAAAA1111X , rec.no   first 3 chr next 5 number "
   ]
  },
  {
   "cell_type": "code",
   "execution_count": null,
   "metadata": {},
   "outputs": [
    {
     "name": "stdout",
     "output_type": "stream",
     "text": [
      "Valid Pan :  AAAAA1111X\n"
     ]
    }
   ],
   "source": [
    "import re\n",
    "def check(func):\n",
    "    '''This decorator checks if all input values are alpha numeric'''\n",
    "    def wrapper(pan):\n",
    "        pattern ='^[A-Z]{5}[0-9]{4}[A-Z]$'\n",
    "        if pan.isalnum() and len(pan)==10 and re.match(pattern,pan):\n",
    "            return func(pan)\n",
    "        else:\n",
    "            raise ValueError('Invalid PAN')\n",
    "    return wrapper\n",
    "\n",
    "\n",
    "@check\n",
    "def printing(pan):\n",
    "    ''' Checks if the given PAN is valid or not'''\n",
    "    print(f'Valid Pan :  {pan}')\n",
    "\n",
    "printing('AAAAA1111X')"
   ]
  },
  {
   "cell_type": "markdown",
   "metadata": {},
   "source": [
    ">16.\tAccept 2 values from user and perform all arithmetic operations and return all"
   ]
  },
  {
   "cell_type": "code",
   "execution_count": 202,
   "metadata": {},
   "outputs": [
    {
     "data": {
      "text/plain": [
       "{'sum': 5.0, 'diff': 2.0, 'product': 5.25, 'division': 2.3333333333333335}"
      ]
     },
     "execution_count": 202,
     "metadata": {},
     "output_type": "execute_result"
    }
   ],
   "source": [
    "def calc():\n",
    "    ''' Accepts two values and performs all arithmetic operations '''\n",
    "    try:\n",
    "        a=input('Enter num1: ')\n",
    "        b=input('Enter num2: ')\n",
    "        if a.isdigit() and b.isdigit():\n",
    "            a=int(a)\n",
    "            b=int(b)\n",
    "            return {'sum':a+b, 'diff':a-b, 'product':a*b, 'division':a/b}\n",
    "        elif '.' in a or '.' in b:\n",
    "            a=float(a)\n",
    "            b=float(b)\n",
    "            return {'sum':a+b, 'diff':a-b, 'product':a*b, 'division':a/b if b!=0 else 'Error: Division by Zero'}\n",
    "        else:\n",
    "            raise Exception('Enter only Integer')\n",
    "    except:\n",
    "        return 'Error: Invalid Input'\n",
    "    \n",
    "calc()"
   ]
  },
  {
   "cell_type": "markdown",
   "metadata": {},
   "source": [
    ">17.\tAsk user to enter any 3 input e.g name, marks , mobile_num\n",
    "if name is with other special characters then it should not not ask for next makrs input\n",
    "   \tnote: \n",
    "o\tCreate separate functions for validation of every variable \n",
    "o\tEvery single block should have proper exception\n",
    "o\tEvery function must have the docstring\n",
    "o\tOnce the validation is done dictionary has to be created and store the dictionary to one txt file\n"
   ]
  },
  {
   "cell_type": "code",
   "execution_count": null,
   "metadata": {},
   "outputs": [
    {
     "name": "stdout",
     "output_type": "stream",
     "text": [
      "Data stored successfully.\n"
     ]
    }
   ],
   "source": [
    "import re\n",
    "\n",
    "def get_name():\n",
    "    ''' Asks user for name and validates it '''\n",
    "    return input(\"Enter name: \")\n",
    "\n",
    "def get_marks():\n",
    "    ''' Asks user for marks and validates it '''\n",
    "    return input(\"Enter marks: \")\n",
    "\n",
    "def get_mobile():\n",
    "    ''' Asks user for mobile number and validates it '''\n",
    "    return input(\"Enter mobile number: \")\n",
    "\n",
    "\n",
    "def validate_name(name):\n",
    "    ''' Validates the name '''\n",
    "    name_pattern = r'^[A-Za-z ]+$'\n",
    "    if not re.match(name_pattern, name):\n",
    "        raise ValueError(\"Invalid Name. Name should only contain alphabetic characters and spaces.\")\n",
    "    \n",
    "def validate_marks(marks):\n",
    "    ''' Validates the marks '''\n",
    "    marks_pattern = r'^[0-9]{1,3}$'\n",
    "    if not re.match(marks_pattern, marks):\n",
    "        raise ValueError(\"Invalid Marks. Marks should be a three digit number.\")\n",
    "    \n",
    "def validate_mobile(mobile):\n",
    "    ''' Validates the mobile number '''\n",
    "    mobile_pattern = r'^[0-9]{10}$'\n",
    "    if not re.match(mobile_pattern, mobile):\n",
    "        raise ValueError(\"Invalid Mobile Number. Mobile number should be a ten digit number.\")\n",
    "\n",
    "def store():\n",
    "    ''' Stores the data in a text file while calling the validation functions and get functions'''\n",
    "    try:\n",
    "        name = get_name()\n",
    "        validate_name(name)\n",
    "        \n",
    "        marks = get_marks()\n",
    "        validate_marks(marks)\n",
    "        \n",
    "        mobile = get_mobile()\n",
    "        validate_mobile(mobile)\n",
    "        \n",
    "        data = f' Name : {name}, Marks : {marks}, Mobile: {mobile}\\n'\n",
    "        with open(\"student_data.txt\", \"w\") as file:\n",
    "            file.write(data)\n",
    "            print(\"Data stored successfully.\")\n",
    "    except Exception as e:\n",
    "        print(f\"Error: {e}\")\n",
    "store()\n",
    "\n",
    "\n"
   ]
  },
  {
   "cell_type": "markdown",
   "metadata": {},
   "source": [
    ">18.\tSegregate file in small , medium and large size in different folder\n",
    "o\tfilesize less than and equal to 10KB is small file\n",
    "o\tfilesize more than 10 KB is the medium file\n",
    "o\tfilesize more than 40 kb is the large file\n",
    "o\tcreate the log file \n"
   ]
  },
  {
   "cell_type": "code",
   "execution_count": null,
   "metadata": {},
   "outputs": [],
   "source": [
    "import os\n",
    "import shutil\n",
    "import logging\n",
    "\n",
    "logger = logging.getLogger(\"fileSegregator\")\n",
    "logger.setLevel(logging.INFO)\n",
    "formatter = logging.Formatter(\"%(asctime)s:%(levelname)s:%(message)s\")\n",
    "fileHandler = logging.FileHandler(\"fileSegregationLog.log\")\n",
    "fileHandler.setFormatter(formatter)\n",
    "logger.addHandler(fileHandler)\n",
    "\n",
    "def segregate_files(source, target):\n",
    "    \"\"\"\n",
    "    Segregates files from the source  into three folders in the target \n",
    "    based on file size.\n",
    "\n",
    "    Args:\n",
    "        source_dir(str): Path to the source directory containing files to segregate according to size .\n",
    "        target_dir(str): Path to the target directory where the segregated folders will be created.\n",
    "    Returns:\n",
    "        None\n",
    "    \"\"\"\n",
    "    try:\n",
    "        largefiles = os.path.join(target, \"Large\") \n",
    "        mediumfiles = os.path.join(target, \"Medium\")\n",
    "        smallfiles = os.path.join(target, \"Small\")\n",
    "\n",
    "        os.makedirs(largefiles, exist_ok=True) #I am using makedir insted of mkdir due to the exist_ok parameter of makedirs\n",
    "        os.makedirs(mediumfiles, exist_ok=True)\n",
    "        os.makedirs(smallfiles, exist_ok=True)\n",
    "        \n",
    "        #here I get a list of all the files inside the folder \n",
    "        for filename in os.listdir(source):\n",
    "            filepath = os.path.join(source, filename)\n",
    "        #here I have put a condition as if files already exists I was directly throwing an exception earlier \n",
    "            if os.path.isdir(filepath):\n",
    "                continue\n",
    "            \n",
    "            #used to get the size of the file \n",
    "            file_size_kb=os.stat(filepath).st_size/1024\n",
    "\n",
    "            if file_size_kb>=40:\n",
    "                shutil.move(filepath,largefiles)\n",
    "                logger.info(f'File {filepath} sent to LargeFiles folder')\n",
    "            elif 10 <= file_size_kb< 40:\n",
    "                shutil.move(filepath,mediumfiles)\n",
    "                logger.info(f'File {filepath} sent to MediumSizedFiles folder')\n",
    "            else:\n",
    "                shutil.move(filepath,smallfiles)\n",
    "                logger.info(f'File {filepath} sent to SmallFiles folder')\n",
    "\n",
    "    except PermissionError as e:\n",
    "        logger.error(f\"Permission error: {e}\")\n",
    "    except Exception as e:\n",
    "        logger.error(f\"An error occurred: {e}\")\n",
    "\n",
    "source = \"D:\\BizmetricTraining\\inputFiles\"\n",
    "target = \"D:\\BizmetricTraining\\outputFiles\"\n",
    "\n",
    "segregate_files(source, target)\n"
   ]
  },
  {
   "cell_type": "markdown",
   "metadata": {},
   "source": [
    "19.\tIn the hotel user is entering the details of menu, quantity and printing the bill. number of menu may varies with customer's order \n",
    "\tgenerate a file having grocery bill as per the below format\n"
   ]
  },
  {
   "cell_type": "code",
   "execution_count": 207,
   "metadata": {},
   "outputs": [
    {
     "name": "stdout",
     "output_type": "stream",
     "text": [
      "\n",
      "Available items: dosa, idli\n",
      "Are you done?\n",
      "****************************************\n",
      "Welcome Hotel Name                 \n",
      "Date: 2025-02-14 | Receipt No:0214165444\n",
      "****************************************\n",
      "Sr No     Item      Quantity  Price     \n",
      "----------------------------------------\n",
      "1         dosa      5         200       \n",
      "----------------------------------------\n",
      "\n",
      "Total price:        200\n",
      "GST (12%):       24.0\n",
      "Grand Total:      224.0\n",
      "----------------------------------------\n"
     ]
    }
   ],
   "source": [
    "from datetime import datetime\n",
    "import sys\n",
    "import logging\n",
    "\n",
    "logger = logging.getLogger(\"menuBill\")\n",
    "logger.setLevel(logging.INFO)\n",
    "formatter = logging.Formatter(\"%(asctime)s:%(levelname)s:%(message)s\")\n",
    "fileHandler = logging.FileHandler(\"menu.log\")\n",
    "fileHandler.setFormatter(formatter)\n",
    "logger.addHandler(fileHandler)\n",
    "\n",
    "\n",
    "def acceptItem(item,menuItems,user_input):\n",
    "    ''' Accepts an item and its quantity from the user and adds it to the user's order.\n",
    "\n",
    "    Args:\n",
    "    - item (str)\n",
    "    - menuItems (dict)\n",
    "    - user_input (dict)\n",
    "    \n",
    "    '''\n",
    "    #check if entered item is in the dictionary\n",
    "    logger.info(f\"Attempting to accept item: {item}\")\n",
    "    while item not in menuItems:\n",
    "        logger.warning(f\"Invalid item entered: {item}\")\n",
    "        print(\"Value doesn't exist in the database. Please enter again\")\n",
    "        item = input(\"Enter item:\").strip().lower()\n",
    "        \n",
    "        if item not in menuItems:\n",
    "            logger.error(f\"Item not found in menu: {item}\")\n",
    "            print(\"Item is not available in the menu\")\n",
    "            return\n",
    "\n",
    "    while True:\n",
    "        try:\n",
    "            q=input(\"Enter Quantity: \").strip()\n",
    "\n",
    "            if q.isdigit():\n",
    "                q=int(q)\n",
    "                if q==0:\n",
    "                    logger.warning(\"Quantity entered as zero\")\n",
    "                    print(\"0 as quantity not allowed\")\n",
    "                    continue\n",
    "                if item not in user_input:\n",
    "                    user_input[item]=q\n",
    "                else:\n",
    "                    user_input[item] = user_input.get(item)+q\n",
    "                    logger.info(f\"Added {q} of {item} to user order\")\n",
    "                break\n",
    "            else:\n",
    "                \n",
    "                raise ValueError(\"Please enter a valid number for quantity\")\n",
    "                \n",
    "        except ValueError as e:\n",
    "            logger.error(f\"Invalid quantity entered: {q} - {e}\")\n",
    "            print(e)\n",
    "            continue\n",
    "\n",
    "def printBill(menuItems,user_input): \n",
    "    '''  Helps print the bill\n",
    "    '''\n",
    "    try:\n",
    "        totalprice= 0    \n",
    "        print(\"{:*^40}\".format(\"*\"))\n",
    "        print(\"{:35}\".format(\"Welcome Hotel Name\"))\n",
    "        current_time = datetime.now()\n",
    "        receipt_number = current_time.strftime('%Y%m%d%H%M%S')\n",
    "        receipt_number = current_time.strftime('%m%d%H%M%S')\n",
    "        print(f\"Date: {current_time.strftime('%Y-%m-%d')} | Receipt No:{receipt_number}\")\n",
    "        print(\"{:*^40}\".format(\"*\"))\n",
    "        print(\"{0:<10}{1:<10}{2:<10}{3:<10}\".format(\"Sr No\", \"Item\", \"Quantity\", \"Price\"))\n",
    "        print(\"{:-^40}\".format(\"\"))\n",
    "\n",
    "        sr= 1\n",
    "        for i in user_input.keys():\n",
    "            price = menuItems.get(i) * int(user_input[i])\n",
    "            print(\"{0:<10}{1:<10}{2:<10}{3:<10}\".format(sr, i, user_input[i], price))\n",
    "            totalprice+= price\n",
    "            sr+= 1 \n",
    "\n",
    "        gst = totalprice * 0.12\n",
    "        grand_total = totalprice + gst\n",
    "\n",
    "\n",
    "        print(\"{:-^40}\".format(\"\"))\n",
    "        print(\"\\nTotal price: {:>10}\".format(totalprice))\n",
    "        print(\"GST (12%): {:>10}\".format(round(gst, 2)))\n",
    "        print(\"Grand Total: {:>10}\".format(round(grand_total, 2)))\n",
    "        print(\"{:-^40}\".format(\"\"))\n",
    "        logger.info(f\"Bill printed with total: {totalprice}, GST: {gst}, Grand Total: {grand_total}\") \n",
    "    except:\n",
    "        logger.error(f\"Error printing bill: {e}\")\n",
    "        print(sys.exc_info()[1])\n",
    "\n",
    "def menuItem():\n",
    "    ''' Manages the menu and the user's ordering process. Allows the user to add items to the order, input quantities,\n",
    "         and choose when to finish the order\n",
    " '''\n",
    "    logger.info(\"Menu ordering process started\")\n",
    "    menuItems = {\"dosa\":40, \"idli\":30}\n",
    "    user_input={}\n",
    "    while True:\n",
    "        print(\"\\nAvailable items: dosa, idli\")\n",
    "        item= input(\"Enter item to add to the bill: \").strip().lower()\n",
    "\n",
    "        try:\n",
    "            acceptItem(item, menuItems, user_input)\n",
    "        except TypeError:\n",
    "            logger.error(f\"TypeError during item acceptance: {e}\")\n",
    "            print(\"Item not available in the menu. Please try again\")\n",
    "            continue\n",
    "\n",
    "        print(\"Are you done?\")\n",
    "        exitchoice = input(\"Enter Y if done, N if not done: \").strip().upper()\n",
    "\n",
    "        if exitchoice ==\"Y\":\n",
    "            logger.info(\"User finished adding items\")\n",
    "            break\n",
    "        elif exitchoice== \"N\":\n",
    "            continue\n",
    "        else:\n",
    "            logger.warning(\"Invalid exit choice entered\")\n",
    "            print(\"Invalid choice, assuming you want to continue\")\n",
    "    printBill(menuItems, user_input)\n",
    "    logger.info(\"Menu ordering process completed\")\n",
    "\n",
    "menuItem()\n"
   ]
  },
  {
   "cell_type": "markdown",
   "metadata": {},
   "source": [
    ">20.\tAsk user to enter the valid file path and check which word is having more repetition in the file"
   ]
  },
  {
   "cell_type": "code",
   "execution_count": null,
   "metadata": {},
   "outputs": [],
   "source": [
    "def count_words(file_path):\n",
    "    '''\n",
    "    Counts the number of occurrences of each word in a given file and returns the word with the highest count.\n",
    "\n",
    "    Args:\n",
    "    - file_path (str): Path to the file to count words from.'''\n",
    "    with open(file_path, 'r') as file:\n",
    "        wordCount={}\n",
    "        for line in file:\n",
    "            words=line.split()\n",
    "            for word in words:\n",
    "                if word.isalpha():\n",
    "                    word=word.lower()\n",
    "                    if word in wordCount:\n",
    "                        wordCount[word]+=1\n",
    "                    else:\n",
    "                        wordCount[word]=1\n",
    "        maxCnt=max(wordCount.values())\n",
    "    return [word for word, count in wordCount.items() if count==maxCnt]"
   ]
  },
  {
   "cell_type": "markdown",
   "metadata": {},
   "source": [
    ">21.\tCreate a function which will accept the word and the file path and returns the dictionary as {word: occurances}"
   ]
  },
  {
   "cell_type": "code",
   "execution_count": 4,
   "metadata": {},
   "outputs": [],
   "source": [
    "def countwords(file_path,toCount):\n",
    "    '''\n",
    "   Accept's the word and the file path and returns the dictionary as {word: occurances}'''\n",
    "    with open(file_path, 'r') as file:\n",
    "        count=0\n",
    "        for line in file:\n",
    "            words=line.split()\n",
    "            for word in words:\n",
    "                if word.isalpha():\n",
    "                    word=word.lower()\n",
    "                    if word ==toCount:\n",
    "                        count+=1\n",
    "    return {'word':count}"
   ]
  },
  {
   "cell_type": "code",
   "execution_count": 6,
   "metadata": {},
   "outputs": [
    {
     "data": {
      "text/plain": [
       "{'word': 3}"
      ]
     },
     "execution_count": 6,
     "metadata": {},
     "output_type": "execute_result"
    }
   ],
   "source": [
    "countwords(r'E:\\BizmetricTraining\\Python_QB\\abc.txt','rgd')"
   ]
  },
  {
   "cell_type": "markdown",
   "metadata": {},
   "source": [
    "22.\tCreate a function which will accept one file and returns all occurrences of the word\n",
    "{‘market’ : 3, ‘is’:5, ‘new’:2}\n"
   ]
  },
  {
   "cell_type": "code",
   "execution_count": 10,
   "metadata": {},
   "outputs": [],
   "source": [
    "def count_occurences(file_path):\n",
    "    ''' '''\n",
    "    with open(file_path, 'r') as file:\n",
    "        wordCount={}\n",
    "        for line in file:\n",
    "            words=line.split()\n",
    "            for word in words:\n",
    "                if word.isalpha():\n",
    "                    word=word.lower()\n",
    "                    if word in wordCount:\n",
    "                        wordCount[word]+=1\n",
    "                    else:\n",
    "                        wordCount[word]=1\n",
    "    return wordCount"
   ]
  },
  {
   "cell_type": "code",
   "execution_count": 11,
   "metadata": {},
   "outputs": [
    {
     "data": {
      "text/plain": [
       "{'grsdfghgvb': 1,\n",
       " 'khfhjnjkhjknhjgb': 1,\n",
       " 'hjgyutyugguiyjbhgfbgnuh': 1,\n",
       " 'uybgtfgjhb': 1,\n",
       " 'uytiuytgkj': 1,\n",
       " 'b': 1,\n",
       " 'ufkyug': 1,\n",
       " 'jhh': 1,\n",
       " 'kuyt': 1,\n",
       " 'uy': 1,\n",
       " 'kjg': 1,\n",
       " 'kyut': 1,\n",
       " 'kyu': 1,\n",
       " 'jgfyubmbhj': 1,\n",
       " 'jj': 1,\n",
       " 'khkh': 1,\n",
       " 'jk': 1,\n",
       " 'khbhjghj': 1,\n",
       " 'jhgjh': 1,\n",
       " 'gug': 1,\n",
       " 'gjb': 1,\n",
       " 'fyu': 1,\n",
       " 'jb': 1,\n",
       " 'dfx': 1,\n",
       " 'k': 1,\n",
       " 'hj': 1,\n",
       " 'gcydyt': 1,\n",
       " 'gb': 1,\n",
       " 'hjh': 1,\n",
       " 'htrgjkhhjnuib': 1,\n",
       " 'rgd': 3,\n",
       " 'es': 1,\n",
       " 'f': 1}"
      ]
     },
     "execution_count": 11,
     "metadata": {},
     "output_type": "execute_result"
    }
   ],
   "source": [
    "count_occurences(r'E:\\BizmetricTraining\\Python_QB\\abc.txt')"
   ]
  },
  {
   "cell_type": "markdown",
   "metadata": {},
   "source": [
    ">23.\tBased on logic mentioned in question number 8 create the class"
   ]
  },
  {
   "cell_type": "code",
   "execution_count": 15,
   "metadata": {},
   "outputs": [
    {
     "name": "stdout",
     "output_type": "stream",
     "text": [
      "key1 : as\n",
      "key2 : as\n",
      "key3 : as\n"
     ]
    }
   ],
   "source": [
    "class que8():\n",
    "    def __init__(self):\n",
    "        self.l = {}\n",
    "\n",
    "    def display(self,**kwargs):\n",
    "        '''Accepts the dictionary as argument and displays key , value pairs line by line  '''\n",
    "        for key,value in kwargs.items():\n",
    "            print(f'{key} : {value}')\n",
    "\n",
    "    def _accept(self,limit):\n",
    "        ''' The function accepts a limit and using comprehenshion asks user to enter values and add the values to the dictionary '''\n",
    "        self.l={f'key{i + 1}': input(f'Enter value for key{i + 1}: ') for i in range(limit)}\n",
    "        return self.l\n",
    "    \n",
    "\n",
    "obj = que8()\n",
    "obj._accept(3)\n",
    "obj.display(**obj.l)\n",
    "\n"
   ]
  },
  {
   "cell_type": "markdown",
   "metadata": {},
   "source": [
    ">24.\tAsk user to enter the folder path. Folder may contain more than one file and with different extensions. Read only text file and return the more repetitive word"
   ]
  },
  {
   "cell_type": "code",
   "execution_count": 18,
   "metadata": {},
   "outputs": [
    {
     "data": {
      "text/plain": [
       "(['rgd'], 3)"
      ]
     },
     "execution_count": 18,
     "metadata": {},
     "output_type": "execute_result"
    }
   ],
   "source": [
    "import os\n",
    "def que24(folderPath):\n",
    "    ''' Read only text files from the given folder and return the word with the highest count  '''\n",
    "    try:\n",
    "        list_=os.listdir(folderPath)\n",
    "        wordcount={}\n",
    "        for file in list_ :\n",
    "            if file.endswith('.txt'):\n",
    "                filepath=os.path.join(folderPath,file)\n",
    "                with open(filepath,'r') as f:\n",
    "                    for line in f:\n",
    "                        words=line.split()\n",
    "                        for word in words:\n",
    "                            word = word.lower()\n",
    "                            if word in wordcount:\n",
    "                                wordcount[word]+=1\n",
    "                            else:\n",
    "                                wordcount[word]=1\n",
    "                            \n",
    "        maxCnt=max(wordcount.values())\n",
    "    except Exception as e:\n",
    "        print(f'Error occurred: {e}')\n",
    "    return [word for word, count in wordcount.items() if count==maxCnt],maxCnt\n",
    "\n",
    "que24(r'E:\\BizmetricTraining\\Python_QB')\n"
   ]
  },
  {
   "cell_type": "markdown",
   "metadata": {},
   "source": [
    "25.\tCreate a class for file reading"
   ]
  },
  {
   "cell_type": "code",
   "execution_count": 19,
   "metadata": {},
   "outputs": [
    {
     "data": {
      "text/plain": [
       "'grsdfghgvb  \\nkhfhjnjkhjknhjgb\\nhjgyutyugguiyjbhgfbgnuh uybgtfgjhb uytiuytgkj b ufkyug jhh kuyt uy kjg kyut kyu grsdfghgvb.hkguygj\\njgfyubmbhj ggg7hjh jj  khkh jk\\nkhbhjghj jhgjh gug gjb fyu jb dfx thnlkj. k hj gcydyt gb hjh\\nhtrgjkhhjnuib \\nrgd es f rgd\\nrgd'"
      ]
     },
     "execution_count": 19,
     "metadata": {},
     "output_type": "execute_result"
    }
   ],
   "source": [
    "class FileReading():\n",
    "\n",
    "    def read_file(self,filepath):\n",
    "        ''' Read the content of the file and return it as a string  '''\n",
    "        try:\n",
    "            with open(filepath, 'r') as file:\n",
    "                return file.read()\n",
    "        except FileNotFoundError:\n",
    "            print(f'File not found at: {filepath}')\n",
    "        except Exception as e:\n",
    "            print(f'Error occurred while reading the file: {e}')\n",
    "\n",
    "\n",
    "f=FileReading()\n",
    "f.read_file(r'E:\\BizmetricTraining\\Python_QB\\abc.txt')"
   ]
  },
  {
   "cell_type": "markdown",
   "metadata": {},
   "source": [
    "> 26Create a function which will accept the dictionary. Dictionary may have values any date type format. If values are in integer or float then return respective key"
   ]
  },
  {
   "cell_type": "code",
   "execution_count": 1,
   "metadata": {},
   "outputs": [
    {
     "name": "stdout",
     "output_type": "stream",
     "text": [
      "Dictionary: {'1': 23}\n",
      "Value is int or float for key: 1\n"
     ]
    }
   ],
   "source": [
    "def find_key(**kwargs):\n",
    "    for key, value in kwargs.items():\n",
    "        if isinstance(value, (int, float)):  # Check if value is int or float\n",
    "            print('Dictionary:',kwargs)\n",
    "            return f'Value is int or float for key: {key}'\n",
    "    return None\n",
    "\n",
    "inp = input(\"Enter dictionary values (as key=value format): \")\n",
    "v1 = dict([i.split('=') for i in inp.split(',')])\n",
    "\n",
    "\n",
    "for key, value in v1.items():\n",
    "    try:\n",
    "        v1[key] = int(value)\n",
    "    except ValueError:\n",
    "        try:\n",
    "            v1[key] = float(value)\n",
    "        except ValueError:\n",
    "            pass\n",
    "\n",
    "print(find_key(**v1))"
   ]
  },
  {
   "cell_type": "markdown",
   "metadata": {},
   "source": [
    ">Create one decorator having exception logic inside it and create another function which will refer to the decorator in case of errors e.g val_name is the function validating name but customized error should be thrown from decorator"
   ]
  },
  {
   "cell_type": "code",
   "execution_count": null,
   "metadata": {},
   "outputs": [
    {
     "name": "stdout",
     "output_type": "stream",
     "text": [
      "First Name is suraj\n"
     ]
    }
   ],
   "source": [
    "import re\n",
    "import logging\n",
    "\n",
    "logging.basicConfig(filename='ErrorHandling.log', level=logging.DEBUG,format='%(asctime)s %(levelname)s %(message)s')\n",
    "\n",
    "def validate_user(pattern):\n",
    "    \"\"\"Decorator function to validate user input\"\"\"\n",
    "    def decorator(func):\n",
    "        def wrapper(value):\n",
    "            try:\n",
    "                if re.match(pattern, value):\n",
    "                    return func(value)\n",
    "                else:\n",
    "                    logging.error(f\"Validation Failed: {value} does not match {pattern}\")\n",
    "                    raise ValueError(\"Invalid Input Format!\")\n",
    "            except ValueError as e:\n",
    "                logging.error(f\"Unexpected validation error: {e}\")\n",
    "                raise\n",
    "        return wrapper\n",
    "    return decorator\n",
    "\n",
    "@validate_user(\"^[A-Za-z]+$\")\n",
    "def name_validate(name):\n",
    "    logging.info(\"User Validation\")\n",
    "    logging.info(\"First Name Validation Successful!\")\n",
    "    print(f\"First Name is {name}\")\n",
    "\n",
    "user_name = input(\"Enter name: \")\n",
    "name_validate(user_name)\n"
   ]
  },
  {
   "cell_type": "markdown",
   "metadata": {},
   "source": [
    ">28Create a class User. User will be instantiated based on key available in the dictionary. If dictionary is not having the key then generate error. If dictionary is having the key then display values against the same."
   ]
  },
  {
   "cell_type": "code",
   "execution_count": 3,
   "metadata": {},
   "outputs": [
    {
     "name": "stdout",
     "output_type": "stream",
     "text": [
      "User details added: {'a': '1'}\n",
      "User Information: 1\n",
      "User Information: 1\n",
      "User details added: {'a': '1', '2': 'suraj'}\n",
      "User Information: suraj\n"
     ]
    }
   ],
   "source": [
    "class User:\n",
    "    def __init__(self):\n",
    "        \"\"\"Initialize user dictionary\"\"\"\n",
    "        self.user_dict = {}\n",
    "\n",
    "    def display_user(self, key):\n",
    "        \"\"\"Display user information if the key exists\"\"\"\n",
    "        if key in self.user_dict:\n",
    "            print(f\"User Information: {self.user_dict[key]}\")\n",
    "        else:\n",
    "            raise KeyError(f\"Key '{key}' not found in the dictionary.\")\n",
    "\n",
    "    def choose_user(self):\n",
    "        \"\"\"Allow the user to choose between different users\"\"\"\n",
    "        while True:\n",
    "            try:\n",
    "                choice = int(input(\"Which user are you? (1. Add User, 2. Display User, 3. Exit): \"))\n",
    "                if choice == 1:\n",
    "                    inp = input(\"Enter User details (key=value format, comma-separated): \")\n",
    "                    user_dict = dict(i.split('=') for i in inp.split(',') if '=' in i and len(i.split('=')) == 2)\n",
    "                    if not user_dict:\n",
    "                        raise ValueError(\"Invalid input format. Ensure each entry is in 'key=value' format.\")\n",
    "                    self.user_dict.update(user_dict)\n",
    "                    print(f\"User details added: {self.user_dict}\")\n",
    "                elif choice == 2:\n",
    "                    key = input(\"Enter the key to display value: \")\n",
    "                    self.display_user(key)\n",
    "                elif choice == 3:\n",
    "                    break\n",
    "                else:\n",
    "                    print(\"Invalid choice! Please choose 1, 2, or 3.\")\n",
    "            except ValueError as e:\n",
    "                print(f\"Error: {e}\")\n",
    "            except KeyError as e:\n",
    "                print(f\"Error: {e}\")\n",
    "\n",
    "obj = User()\n",
    "obj.choose_user()"
   ]
  },
  {
   "cell_type": "markdown",
   "metadata": {},
   "source": [
    ">29 Create a class pharma. One user A will enter the medicine name and price. Another user B will generate the bill based on entry done by the first user"
   ]
  },
  {
   "cell_type": "code",
   "execution_count": 7,
   "metadata": {},
   "outputs": [
    {
     "name": "stdout",
     "output_type": "stream",
     "text": [
      "Bill:\n",
      "abc: 234.0\n",
      "Total Amount: 936.0\n"
     ]
    }
   ],
   "source": [
    "class Pharma:\n",
    "    def __init__(self):\n",
    "        \"\"\"Initialize medicine dictionary\"\"\"\n",
    "        self.medicine_data = {}\n",
    "    \n",
    "    def add_medicine(self):\n",
    "        \"\"\"Add medicine and price to the dictionary\"\"\"\n",
    "        med_name = input(\"Enter medicine name: \")\n",
    "        med_price = float(input(\"Enter medicine price: \"))\n",
    "        self.medicine_data[med_name] = med_price\n",
    "    \n",
    "    def generate_bill(self):\n",
    "        \"\"\"Generate bill for the medicines entered by the first user\"\"\"\n",
    "        total_cost = 0\n",
    "        while True:\n",
    "            med_name = input(\"Enter medicine name (or 'done' to finish): \")\n",
    "            if med_name.lower() == 'done':\n",
    "                break\n",
    "            if med_name in self.medicine_data:\n",
    "                med_price = self.medicine_data[med_name]\n",
    "                med_qty = int(input(f\"Enter quantity of {med_name}: \"))\n",
    "                total_cost += med_price * med_qty\n",
    "            else:\n",
    "                print(f\"Error: Medicine '{med_name}' not found.\")\n",
    "        return total_cost\n",
    "                \n",
    "    def display_bill(self, total_cost):\n",
    "        \"\"\"Display the bill\"\"\"\n",
    "        print(\"Bill:\")\n",
    "        for med_name, med_price in self.medicine_data.items():\n",
    "            print(f\"{med_name}: {med_price}\")\n",
    "        print(f\"Total Amount: {total_cost}\")\n",
    "        \n",
    "    def choose_user(self):\n",
    "        \"\"\"Allow the user to choose between different users\"\"\"\n",
    "        while True:\n",
    "            user_choice = int(input(\"Which user are you? (1. Add Medicine, 2. Generate Bill, 3. Exit): \"))\n",
    "            if user_choice == 1:\n",
    "                self.add_medicine()\n",
    "            elif user_choice == 2:\n",
    "                total_cost = self.generate_bill()\n",
    "                self.display_bill(total_cost)\n",
    "            elif user_choice == 3:\n",
    "                break\n",
    "            else:\n",
    "                print(\"Invalid choice! Please choose 1, 2, or 3.\")\n",
    "                break\n",
    "        \n",
    "pharma_obj = Pharma()\n",
    "pharma_obj.choose_user()\n"
   ]
  },
  {
   "cell_type": "markdown",
   "metadata": {},
   "source": [
    "30 Read the file if the file contains number, then return the dictionary based on position and values of the number."
   ]
  },
  {
   "cell_type": "code",
   "execution_count": 9,
   "metadata": {},
   "outputs": [
    {
     "name": "stdout",
     "output_type": "stream",
     "text": [
      "No valid numbers found in the file.\n"
     ]
    }
   ],
   "source": [
    "def get_file_path():\n",
    "    \"\"\"Get file path from user\"\"\"\n",
    "    return input(\"Enter file path: \")\n",
    "\n",
    "def read_file(file_path):\n",
    "    \"\"\"Read the file and return lines\"\"\"\n",
    "    try:\n",
    "        with open(file_path, 'r') as file:\n",
    "            return [line.strip() for line in file]\n",
    "    except FileNotFoundError:\n",
    "        print(f\"Error: The file '{file_path}' was not found.\")\n",
    "        return None\n",
    "\n",
    "def create_dict(lines):\n",
    "    \"\"\"Create a dictionary where key is the line number and value is the number from the line\"\"\"\n",
    "    dict_data = {}\n",
    "    for index, line in enumerate(lines, start=1): \n",
    "        try:\n",
    "            number = int(line)  \n",
    "            dict_data[index] = number  \n",
    "        except ValueError:\n",
    "            continue  \n",
    "    return dict_data\n",
    "\n",
    "file_path = get_file_path()\n",
    "lines = read_file(file_path)  \n",
    "if lines:  \n",
    "    dict_data = create_dict(lines)  \n",
    "    if dict_data: \n",
    "        print(\"Dictionary based on position and values of the numbers:\", dict_data)\n",
    "    else:\n",
    "        print(\"No valid numbers found in the file.\")\n"
   ]
  },
  {
   "cell_type": "markdown",
   "metadata": {},
   "source": [
    ">31 Create a class for file reading file if the file contains number, then return the dictionary based on user object, having sub dictionary position and values of the number against that user file."
   ]
  },
  {
   "cell_type": "code",
   "execution_count": 11,
   "metadata": {},
   "outputs": [
    {
     "name": "stdout",
     "output_type": "stream",
     "text": [
      "Position 146, Value 7\n",
      "Position 255, Value 1\n",
      "Position 257, Value 2\n",
      "Position 259, Value 3\n",
      "Position 261, Value 4\n",
      "Position 263, Value 5\n",
      "Position 265, Value 6\n",
      "Position 267, Value 6\n",
      "Position 269, Value 46\n",
      "Position 272, Value 35\n",
      "Position 275, Value 34\n",
      "Position 281, Value 765478625\n",
      "Position 291, Value 234782\n"
     ]
    }
   ],
   "source": [
    "import logging\n",
    "\n",
    "logging.basicConfig(filename='count.log', level=logging.INFO)\n",
    "\n",
    "\n",
    "class FileProcessor:\n",
    "    def __init__(self, filename):\n",
    "        self.filename = filename\n",
    "        self.values = {}\n",
    "\n",
    "    def read_and_count(self):\n",
    "        try:\n",
    "            with open(self.filename, 'r') as file:\n",
    "                num = \"\"\n",
    "                pos = None\n",
    "\n",
    "                while True:\n",
    "                    char = file.read(1)\n",
    "                    if not char:\n",
    "                        break\n",
    "                    \n",
    "                    if char.isdigit():\n",
    "                        if num == \"\":\n",
    "                            pos = file.tell() - 1\n",
    "                        num += char\n",
    "                    else:\n",
    "                        if num:\n",
    "                            self.values[pos] = int(num)\n",
    "                            num = \"\"\n",
    "                            pos = None\n",
    "\n",
    "                if num:\n",
    "                    self.values[pos] = int(num)\n",
    "\n",
    "                logging.info(\"Executed successfully\")\n",
    "\n",
    "        except FileNotFoundError:\n",
    "            logging.error('File not found')\n",
    "            print('File not found')\n",
    "        except Exception as e:\n",
    "            print(f'Unknown exception: {e}')\n",
    "            logging.error(e)\n",
    "\n",
    "    def display(self):\n",
    "        try:\n",
    "            for pos, value in self.values.items():\n",
    "                print(f'Position {pos}, Value {value}')\n",
    "        except Exception as e:\n",
    "            print(f'Unknown exception: {e}')\n",
    "            logging.error(e)\n",
    "\n",
    "\n",
    "processor = FileProcessor(r'E:\\BizmetricTraining\\Python_QB\\abc.txt')\n",
    "processor.read_and_count()\n",
    "if processor.values:\n",
    "    processor.display()\n"
   ]
  },
  {
   "cell_type": "markdown",
   "metadata": {},
   "source": [
    ">32 In hotel booking portal, user will enter pan card name and mobile number, store the same information into dictionary after successful booking user will get confirmation number."
   ]
  },
  {
   "cell_type": "code",
   "execution_count": 12,
   "metadata": {},
   "outputs": [
    {
     "name": "stdout",
     "output_type": "stream",
     "text": [
      "\n",
      "Booking confirmed!\n",
      "Your booking ID is: KTC7Q5RK\n",
      "\n",
      "Booking Details for KTC7Q5RK:\n",
      "PAN: SAPC4214A\n",
      "Mobile: 9011782106\n"
     ]
    }
   ],
   "source": [
    "import random\n",
    "import string\n",
    "\n",
    "class BookingSystem:\n",
    "    def __init__(self):\n",
    "        self.reservations = {}\n",
    "\n",
    "    def generate_id(self):\n",
    "        \"\"\"Generate a unique 8-character booking ID.\"\"\"\n",
    "        return ''.join(random.choices(string.ascii_uppercase + string.digits, k=8))\n",
    "\n",
    "    def book(self):\n",
    "        \"\"\"Process hotel booking.\"\"\"\n",
    "        pan = input(\"Enter PAN card number: \")\n",
    "        mobile = input(\"Enter mobile number: \")\n",
    "\n",
    "        if not pan or not mobile:\n",
    "            print(\"Error: Both PAN card and mobile number are required.\")\n",
    "            return\n",
    "\n",
    "        booking_id = self.generate_id()\n",
    "        self.reservations[booking_id] = {\"pan\": pan, \"mobile\": mobile}\n",
    "\n",
    "        print(\"\\nBooking confirmed!\")\n",
    "        print(f\"Your booking ID is: {booking_id}\")\n",
    "\n",
    "    def show_booking(self, booking_id):\n",
    "        \"\"\"Display booking details.\"\"\"\n",
    "        if booking_id in self.reservations:\n",
    "            data = self.reservations[booking_id]\n",
    "            print(f\"\\nBooking Details for {booking_id}:\")\n",
    "            print(f\"PAN: {data['pan']}\")\n",
    "            print(f\"Mobile: {data['mobile']}\")\n",
    "        else:\n",
    "            print(f\"No booking found for ID: {booking_id}\")\n",
    "\n",
    "\n",
    "system = BookingSystem()\n",
    "system.book()\n",
    "ref_id = input(\"\\nEnter booking ID to view details (or press Enter to skip): \")\n",
    "if ref_id:\n",
    "    system.show_booking(ref_id)\n"
   ]
  },
  {
   "cell_type": "markdown",
   "metadata": {},
   "source": [
    ">33 Create a super class user. Having methods register, sing in, sign out. Super class can be inherited by student, professor, admin.Admin and students can view the marks and professor can enter the marks But marks can be visible to students on the given result date"
   ]
  },
  {
   "cell_type": "code",
   "execution_count": 5,
   "metadata": {},
   "outputs": [
    {
     "name": "stdout",
     "output_type": "stream",
     "text": [
      "\n",
      "1. Student\n",
      "2. Professor\n",
      "3. Admin\n",
      "4. Exit\n"
     ]
    },
    {
     "name": "stdout",
     "output_type": "stream",
     "text": [
      "Invalid choice! Please enter a valid option.\n",
      "\n",
      "1. Student\n",
      "2. Professor\n",
      "3. Admin\n",
      "4. Exit\n",
      "Exiting the system!\n"
     ]
    }
   ],
   "source": [
    "from datetime import datetime\n",
    "\n",
    "class User:\n",
    "    def __init__(self, username, password):\n",
    "        self.username = username\n",
    "        self.password = password\n",
    "        self.logged_in = False\n",
    "\n",
    "    def register(self):\n",
    "        print(f\"{self.username} registered successfully!\")\n",
    "\n",
    "    def sign_in(self):\n",
    "        username = input(\"Enter username: \")\n",
    "        password = input(\"Enter password: \")\n",
    "        if self.username == username and self.password == password:\n",
    "            self.logged_in = True\n",
    "            print(f\"{self.username} signed in successfully!\")\n",
    "        else:\n",
    "            print(\"Invalid username or password!\")\n",
    "\n",
    "    def sign_out(self):\n",
    "        if self.logged_in:\n",
    "            self.logged_in = False\n",
    "            print(f\"{self.username} signed out successfully!\")\n",
    "        else:\n",
    "            print(\"User is not logged in!\")\n",
    "\n",
    "\n",
    "class Student(User):\n",
    "    def __init__(self, username, password):\n",
    "        super().__init__(username, password)\n",
    "        self.marks = None  \n",
    "\n",
    "    def view_marks(self, result_date):\n",
    "        '''Students can view marks only on or after the result date'''\n",
    "        if not self.logged_in:\n",
    "            print(\"Please sign in first to view marks!\")\n",
    "            return\n",
    "        \n",
    "        current_date = datetime.today().date()\n",
    "        if self.marks is not None and current_date >= result_date:\n",
    "            print(f\"{self.username}'s Marks: {self.marks}\")\n",
    "        else:\n",
    "            print(\"Marks not available yet. Please wait for the result date.\")\n",
    "\n",
    "\n",
    "class Professor(User):\n",
    "    def __init__(self, username, password):\n",
    "        super().__init__(username, password)\n",
    "\n",
    "    def enter_marks(self, student):\n",
    "        '''Professor can enter marks for students'''\n",
    "        if not self.logged_in:\n",
    "            print(\"Professor must be signed in to enter marks!\")\n",
    "            return\n",
    "        \n",
    "        try:\n",
    "            marks = int(input(f\"Enter marks for {student.username}: \"))\n",
    "            student.marks = marks\n",
    "            print(f\"Marks entered for {student.username}: {marks}\")\n",
    "        except ValueError:\n",
    "            print(\"Invalid input! Please enter a valid number.\")\n",
    "\n",
    "\n",
    "class Admin(User):\n",
    "    def __init__(self, username, password):\n",
    "        super().__init__(username, password)\n",
    "\n",
    "    def view_student_marks(self, student):\n",
    "        '''Admin can view student marks at any time'''\n",
    "        if not self.logged_in:\n",
    "            print(\"Admin must be signed in to view marks!\")\n",
    "            return\n",
    "        \n",
    "        print(f\"Admin viewing {student.username}'s Marks: {student.marks if student.marks is not None else 'No marks entered yet'}\")\n",
    "\n",
    "\n",
    "students = {}\n",
    "professors = {}\n",
    "admins = {}\n",
    "\n",
    "while True:\n",
    "    print(\"\\n1. Student\\n2. Professor\\n3. Admin\\n4. Exit\")\n",
    "    choice = input(\"Choose an option: \")\n",
    "\n",
    "    if choice == \"1\":  \n",
    "        print(\"\\n1. Create Student Account\\n2. Sign In and View Marks\")\n",
    "        choice1 = input(\"Choose an option: \")\n",
    "\n",
    "        if choice1 == \"1\":\n",
    "            v1 = input(\"Enter Username: \")\n",
    "            v2 = input(\"Enter Password: \")\n",
    "            if v1 in students:\n",
    "                print(\"Username already exists!\")\n",
    "            else:\n",
    "                students[v1] = Student(v1, v2)\n",
    "                students[v1].register()\n",
    "\n",
    "        elif choice1 == \"2\":\n",
    "            v1 = input(\"Enter Username: \")\n",
    "            if v1 in students:\n",
    "                student = students[v1]\n",
    "                student.sign_in()\n",
    "                result_date = datetime(2025, 3, 1).date()\n",
    "                student.view_marks(result_date)\n",
    "                student.sign_out()\n",
    "            else:\n",
    "                print(\"Student does not exist!\")\n",
    "\n",
    "    elif choice == \"2\":  \n",
    "        print(\"\\n1. Create Professor Account\\n2. Sign In and Enter Marks\")\n",
    "        choice2 = input(\"Choose an option: \")\n",
    "\n",
    "        if choice2 == \"1\":\n",
    "            v1 = input(\"Enter Username: \")\n",
    "            v2 = input(\"Enter Password: \")\n",
    "            if v1 in professors:\n",
    "                print(\"Username already exists!\")\n",
    "            else:\n",
    "                professors[v1] = Professor(v1, v2)\n",
    "                professors[v1].register()\n",
    "\n",
    "        elif choice2 == \"2\":\n",
    "            v1 = input(\"Enter Username: \")\n",
    "            if v1 in professors:\n",
    "                professor = professors[v1]\n",
    "                professor.sign_in()\n",
    "                v2 = input(\"Enter Student Username to Assign Marks: \")\n",
    "                if v2 in students:\n",
    "                    professor.enter_marks(students[v2])\n",
    "                else:\n",
    "                    print(\"Student not found!\")\n",
    "                professor.sign_out()\n",
    "            else:\n",
    "                print(\"Professor does not exist!\")\n",
    "\n",
    "    elif choice == \"3\":  \n",
    "        print(\"\\n1. Create Admin Account\\n2. Sign In and View Student Marks\")\n",
    "        choice3 = input(\"Choose an option: \")\n",
    "\n",
    "        if choice3 == \"1\":\n",
    "            v1 = input(\"Enter Username: \")\n",
    "            v2 = input(\"Enter Password: \")\n",
    "            if v1 in admins:\n",
    "                print(\"Username already exists!\")\n",
    "            else:\n",
    "                admins[v1] = Admin(v1, v2)\n",
    "                admins[v1].register()\n",
    "\n",
    "        elif choice3 == \"2\":\n",
    "            v1 = input(\"Enter Username: \")\n",
    "            if v1 in admins:\n",
    "                admin = admins[v1]\n",
    "                admin.sign_in()\n",
    "                v2 = input(\"Enter Student Username to View Marks: \")\n",
    "                if v2 in students:\n",
    "                    admin.view_student_marks(students[v2])\n",
    "                else:\n",
    "                    print(\"Student not found!\")\n",
    "                admin.sign_out()\n",
    "            else:\n",
    "                print(\"Admin does not exist!\")\n",
    "\n",
    "    elif choice == \"4\":  \n",
    "        print(\"Exiting the system!\")\n",
    "        break\n",
    "\n",
    "    else:\n",
    "        print(\"Invalid choice! Please enter a valid option.\")"
   ]
  },
  {
   "cell_type": "markdown",
   "metadata": {},
   "source": [
    ">34Create suitable classes, methods and attributes for resume exchange. Employee to upload the file and the same file is visible to employer"
   ]
  },
  {
   "cell_type": "code",
   "execution_count": null,
   "metadata": {},
   "outputs": [],
   "source": [
    "class User:\n",
    "    def __init__(self, username, password):\n",
    "        self.username = username\n",
    "        self.password = password\n",
    "        self.logged_in = False\n",
    "\n",
    "    def sign_in(self):\n",
    "        u = input(\"Enter username: \")\n",
    "        p = input(\"Enter password: \")\n",
    "        if self.username == u and self.password == p:\n",
    "            self.logged_in = True\n",
    "            print(f\"{self.username} signed in successfully!\")\n",
    "        else:\n",
    "            print(\"Invalid username or password!\")\n",
    "\n",
    "    def sign_out(self):\n",
    "        if self.logged_in:\n",
    "            self.logged_in = False\n",
    "            print(f\"{self.username} signed out successfully!\")\n",
    "        else:\n",
    "            print(\"User is not logged in!\")\n",
    "\n",
    "class Employee(User):\n",
    "    def __init__(self, username, password):\n",
    "        super().__init__(username, password)\n",
    "        self.resume = None\n",
    "\n",
    "    def upload_resume(self):\n",
    "        if not self.logged_in:\n",
    "            print(\"Please sign in first to upload resume!\")\n",
    "            return\n",
    "        \n",
    "        file = input(\"Enter the resume file name: \")\n",
    "        try:\n",
    "            with open(file, \"r\") as f:\n",
    "                self.resume = f.read()\n",
    "                print(f\"Resume uploaded successfully by {self.username}!\")\n",
    "        except FileNotFoundError:\n",
    "            print(\"File not found! Please check the filename and try again.\")\n",
    "\n",
    "class Employer(User):\n",
    "    def __init__(self, username, password):\n",
    "        super().__init__(username, password)\n",
    "\n",
    "    def view_resumes(self, employees):\n",
    "        if not self.logged_in:\n",
    "            print(\"Employer must sign in to view resumes!\")\n",
    "            return\n",
    "        \n",
    "        print(\"\\n--- Available Resumes ---\")\n",
    "        found = False\n",
    "        for emp in employees.values():\n",
    "            if emp.resume:\n",
    "                print(f\"\\n{emp.username}'s Resume:\\n{emp.resume}\")\n",
    "                found = True\n",
    "        \n",
    "        if not found:\n",
    "            print(\"No resumes available yet.\")\n",
    "\n",
    "employees = {}\n",
    "employers = {}\n",
    "\n",
    "while True:\n",
    "    print(\"\\n1. Employee\\n2. Employer\\n3. Exit\")\n",
    "    ch = input(\"Choose an option: \")\n",
    "    \n",
    "    match ch:\n",
    "        case \"1\":\n",
    "            print(\"\\n1. Create Employee Account\\n2. Sign In and Upload Resume\")\n",
    "            ch1 = input(\"Choose an option: \")\n",
    "            \n",
    "            match ch1:\n",
    "                case \"1\":\n",
    "                    u = input(\"Enter Username: \")\n",
    "                    p = input(\"Enter Password: \")\n",
    "                    if u in employees:\n",
    "                        print(\"Username already exists!\")\n",
    "                    else:\n",
    "                        employees[u] = Employee(u, p)\n",
    "                        print(f\"Employee {u} registered successfully!\")\n",
    "                case \"2\":\n",
    "                    u = input(\"Enter Username: \")\n",
    "                    if u in employees:\n",
    "                        emp = employees[u]\n",
    "                        emp.sign_in()\n",
    "                        emp.upload_resume()\n",
    "                        emp.sign_out()\n",
    "                    else:\n",
    "                        print(\"Employee does not exist!\")\n",
    "        \n",
    "        case \"2\":\n",
    "            print(\"\\n1. Create Employer Account\\n2. Sign In and View Resumes\")\n",
    "            ch2 = input(\"Choose an option: \")\n",
    "            \n",
    "            match ch2:\n",
    "                case \"1\":\n",
    "                    u = input(\"Enter Username: \")\n",
    "                    p = input(\"Enter Password: \")\n",
    "                    if u in employers:\n",
    "                        print(\"Username already exists!\")\n",
    "                    else:\n",
    "                        employers[u] = Employer(u, p)\n",
    "                        print(f\"Employer {u} registered successfully!\")\n",
    "                case \"2\":\n",
    "                    u = input(\"Enter Username: \")\n",
    "                    if u in employers:\n",
    "                        emp = employers[u]\n",
    "                        emp.sign_in()\n",
    "                        emp.view_resumes(employees)\n",
    "                        emp.sign_out()\n",
    "                    else:\n",
    "                        print(\"Employer does not exist!\")\n",
    "        \n",
    "        case \"3\":\n",
    "            print(\"Exiting the system!\")\n",
    "            break\n",
    "        \n",
    "        case _:\n",
    "            print(\"Invalid choice! Please enter a valid option.\")\n"
   ]
  },
  {
   "cell_type": "markdown",
   "metadata": {},
   "source": [
    "> 35 Perform the database connectivity and save all employee details in the database Like name, mobile, address.Create the proper class with methods like user information, calculate the salary, apply for the leave, view leaves, approve leaves. Records for leave application should be stored in dummy table (temporary view). Once the leave is approved then it should move to permanent table."
   ]
  },
  {
   "cell_type": "code",
   "execution_count": null,
   "metadata": {},
   "outputs": [],
   "source": [
    "class EmployeeDB:\n",
    "    def __init__(self):\n",
    "        self.conn = pyodbc.connect(\n",
    "            \"Driver={SQL Server};\"\n",
    "            \"Server=DESKTOP-965RU10;\"  \n",
    "            \"Database=EmployeeManagement;\" \n",
    "            \"Trusted_Connection=yes;\" \n",
    "        )\n",
    "        self.cursor = self.conn.cursor()\n",
    "\n",
    "    def add_employee(self, name, mobile, address, salary):\n",
    "        \"\"\"Insert a new employee record into the Employees table.\"\"\"\n",
    "        self.cursor.execute(\"\"\"\n",
    "        INSERT INTO Employees (name, mobile, address, salary) \n",
    "        VALUES (?, ?, ?, ?)\n",
    "        \"\"\", (name, mobile, address, salary))\n",
    "        self.conn.commit()\n",
    "        print(f\"Employee {name} added successfully!\")\n",
    "\n",
    "    def view_employees(self):\n",
    "        \"\"\"Fetch and display all employees.\"\"\"\n",
    "        self.cursor.execute(\"SELECT * FROM Employees\")\n",
    "        for row in self.cursor.fetchall():\n",
    "            print(row)\n",
    "\n",
    "    def apply_leave(self, emp_id, start_date, end_date):\n",
    "        \"\"\"Employee applies for leave.\"\"\"\n",
    "        self.cursor.execute(\"\"\"\n",
    "        INSERT INTO LeaveApplications (emp_id, start_date, end_date) \n",
    "        VALUES (?, ?, ?)\n",
    "        \"\"\", (emp_id, start_date, end_date))\n",
    "        self.conn.commit()\n",
    "        print(\"Leave applied successfully!\")\n",
    "\n",
    "    def view_pending_leaves(self):\n",
    "        \"\"\"Admin views pending leave applications.\"\"\"\n",
    "        self.cursor.execute(\"SELECT * FROM LeaveApplications WHERE status='Pending'\")\n",
    "        for row in self.cursor.fetchall():\n",
    "            print(row)\n",
    "\n",
    "    def approve_leave(self, leave_id):\n",
    "        \"\"\"Admin approves leave and moves it to the ApprovedLeaves table.\"\"\"\n",
    "        self.cursor.execute(\"SELECT emp_id, start_date, end_date FROM LeaveApplications WHERE leave_id=?\", (leave_id,))\n",
    "        leave = self.cursor.fetchone()\n",
    "        \n",
    "        if leave:\n",
    "            emp_id, start_date, end_date = leave\n",
    "            self.cursor.execute(\"\"\"\n",
    "            INSERT INTO ApprovedLeaves (emp_id, start_date, end_date) \n",
    "            VALUES (?, ?, ?)\n",
    "            \"\"\", (emp_id, start_date, end_date))\n",
    "            \n",
    "            self.cursor.execute(\"DELETE FROM LeaveApplications WHERE leave_id=?\", (leave_id,))\n",
    "            self.conn.commit()\n",
    "            print(\"Leave approved and moved to permanent records.\")\n",
    "        else:\n",
    "            print(\"Leave ID not found!\")\n",
    "\n",
    "\n",
    "db = EmployeeDB()\n",
    "db.add_employee(\"Suraj\", \"1234567890\", \"123 xyz, Pune City\", 480099)\n",
    "db.view_employees()\n",
    "db.apply_leave(1, \"2025-02-20\", \"2025-02-25\")\n",
    "db.view_pending_leaves()\n",
    "db.approve_leave(1)"
   ]
  },
  {
   "cell_type": "markdown",
   "metadata": {},
   "source": [
    "Output:- \n",
    "##### Employee Amal added successfully!\n",
    "##### (\"Suraj\", \"1234567890\", \"123 xyz, Pune City\", 480099)\n",
    "##### Leave applied successfully!\n",
    "##### (1, 1, '2025-02-20', '2025-02-25', 'Pending')\n",
    "##### Leave approved and moved to permanent records."
   ]
  },
  {
   "cell_type": "markdown",
   "metadata": {},
   "source": []
  }
 ],
 "metadata": {
  "kernelspec": {
   "display_name": "Python 3",
   "language": "python",
   "name": "python3"
  },
  "language_info": {
   "codemirror_mode": {
    "name": "ipython",
    "version": 3
   },
   "file_extension": ".py",
   "mimetype": "text/x-python",
   "name": "python",
   "nbconvert_exporter": "python",
   "pygments_lexer": "ipython3",
   "version": "3.12.1"
  }
 },
 "nbformat": 4,
 "nbformat_minor": 2
}
