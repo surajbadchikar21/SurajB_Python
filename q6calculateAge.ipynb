{
 "cells": [
  {
   "cell_type": "code",
   "execution_count": 4,
   "metadata": {},
   "outputs": [
    {
     "name": "stdout",
     "output_type": "stream",
     "text": [
      "Date too be lesss than current date \n",
      "None\n"
     ]
    }
   ],
   "source": [
    "from datetime import datetime\n",
    "\n",
    "import sys\n",
    "\n",
    "def calculateAge():\n",
    "    ''' Calculate the age of a person based on their birthdate.\n",
    "\n",
    "    Asks the user to input their birthdate in the format 'yyyy-mm-dd'.\n",
    "    Validates the input and calculates the age by comparing the birthdate\n",
    "    with the current date. If the input is invalid, it shows an error message.\n",
    "\n",
    "    Returns:\n",
    "        Current age , if future date is given raises custom exception\n",
    "    '''\n",
    "    try:\n",
    "        inputdate=input(\"Enter values in yyyy-mm-dd format: \")\n",
    "        birthday = datetime.strptime(inputdate, \"%Y-%m-%d\") \n",
    "\n",
    "        if birthday>=datetime.now():\n",
    "            raise Exception(\"Date too be lesss than current date \")\n",
    "        else:\n",
    "            age = datetime.now().year - birthday.year\n",
    "            if (birthday.month ,birthday.day)>(datetime.now().month,datetime.now().day):\n",
    "                age-= 1\n",
    "\n",
    "            return age\n",
    "    except ValueError:\n",
    "         print(\"Invalid date format. Please enter the date in yyyy-mm-dd format\")\n",
    "    except:\n",
    "        print(sys.exc_info()[1])\n",
    "\n",
    "age=calculateAge()\n",
    "print(age)"
   ]
  }
 ],
 "metadata": {
  "kernelspec": {
   "display_name": "Python 3",
   "language": "python",
   "name": "python3"
  },
  "language_info": {
   "codemirror_mode": {
    "name": "ipython",
    "version": 3
   },
   "file_extension": ".py",
   "mimetype": "text/x-python",
   "name": "python",
   "nbconvert_exporter": "python",
   "pygments_lexer": "ipython3",
   "version": "3.12.1"
  }
 },
 "nbformat": 4,
 "nbformat_minor": 2
}
